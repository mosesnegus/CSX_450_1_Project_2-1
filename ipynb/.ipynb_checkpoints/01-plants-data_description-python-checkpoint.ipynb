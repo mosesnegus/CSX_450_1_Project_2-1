{
 "cells": [
  {
   "cell_type": "code",
   "execution_count": null,
   "metadata": {},
   "outputs": [],
   "source": [
    "import matplotlib.pyplot as plt\n",
    "import numpy as np\n",
    "import pandas as pd\n",
    "import seaborn as sns\n",
    "import re\n",
    "%matplotlib inline"
   ]
  },
  {
   "cell_type": "code",
   "execution_count": null,
   "metadata": {},
   "outputs": [],
   "source": [
    "# load abbreviations file\n",
    "# note that the file is encoded in latin-1, instead of Python's default utf-8 or the common ascii encoding\n",
    "raw_abbrs = [line.decode('latin-1') for line in open('../data/stateabbr.data', 'rb')]\n",
    "\n",
    "# get raw samples with the locations as a list\n",
    "raw_samples = [sample.decode('latin-1').strip().split(',') for sample in open('../data/plants.data', 'rb')]\n"
   ]
  },
  {
   "cell_type": "code",
   "execution_count": null,
   "metadata": {},
   "outputs": [],
   "source": [
    "# parse the abbreviations, not every line is a location and not every abbreviation is 2 letters\n",
    "# however, every abbreviation is lower case\n",
    "samples_dict = {}\n",
    "sample_count = len(raw_samples)\n",
    "for line in raw_abbrs:\n",
    "    m = re.search('^([a-z]{2,})\\s', line)\n",
    "    if m:\n",
    "        abbr = m.group(0).replace(' ', '')\n",
    "        # pre-populate with zeros\n",
    "        samples_dict[abbr] = np.zeros(sample_count, dtype=np.int8)\n",
    "print(\"Num Locations: {}\".format(len(samples_dict.keys())))"
   ]
  },
  {
   "cell_type": "code",
   "execution_count": null,
   "metadata": {},
   "outputs": [],
   "source": [
    "# there should be 70 locations, turns out \"Prince Edward Island\" does not have an abbreviation\n",
    "# also, samples have an abbreviation the location \"pe\" and \"gl\" which is not in stateabbr.txt\n",
    "# let's assume pe == \"Prince Edward Island\" and gl == \"GreenLand\" and add it to the dictionary\n",
    "samples_dict['pe'] = np.zeros(sample_count, dtype=np.int8)\n",
    "samples_dict['gl'] = np.zeros(sample_count, dtype=np.int8)\n",
    "\n",
    "all_locations = set(samples_dict.keys())\n",
    "# assign 1 for the locations\n",
    "for i in range(0, sample_count):\n",
    "    abbrs = set(raw_samples[i][1:])\n",
    "    for abbr in abbrs:\n",
    "        samples_dict[abbr][i] = 1 \n",
    "\n",
    "plants_df = pd.DataFrame(data=samples_dict)"
   ]
  },
  {
   "cell_type": "code",
   "execution_count": null,
   "metadata": {},
   "outputs": [],
   "source": [
    "from sklearn.decomposition import PCA\n",
    "\n",
    "number_of_dimensions = 2\n",
    "pca = PCA(n_components=number_of_dimensions)\n",
    "\n",
    "pca.fit(plants_df)\n",
    "plants_2d = pca.transform(plants_df)"
   ]
  },
  {
   "cell_type": "code",
   "execution_count": null,
   "metadata": {},
   "outputs": [],
   "source": [
    "from sklearn.cluster import KMeans\n",
    "\n",
    "number_of_clusters = [2,3,6,14]\n",
    "\n",
    "fig = plt.figure(figsize=(20,4))\n",
    "\n",
    "for i, clusters in enumerate(number_of_clusters):\n",
    "    fig.add_subplot(101+i+10*len(number_of_clusters))\n",
    "    kmeans = KMeans(n_clusters=clusters)\n",
    "    kmeans.fit(plants_df)\n",
    "    labels = ['cluster ' + str(label+1) for label in kmeans.labels_]\n",
    "    ax = sns.swarmplot(x=gene_exp_2d[:,0], y=gene_exp_2d[:,1], hue=labels)\n",
    "    ax.set(xticklabels=[])\n",
    "    ax.set(yticklabels=[])\n",
    "    ax.legend(loc='upper right')\n",
    "    if i == 3: ax.legend_.remove()"
   ]
  },
  {
   "cell_type": "code",
   "execution_count": null,
   "metadata": {},
   "outputs": [],
   "source": []
  }
 ],
 "metadata": {
  "kernelspec": {
   "display_name": "Python 3",
   "language": "python",
   "name": "python3"
  },
  "language_info": {
   "codemirror_mode": {
    "name": "ipython",
    "version": 3
   },
   "file_extension": ".py",
   "mimetype": "text/x-python",
   "name": "python",
   "nbconvert_exporter": "python",
   "pygments_lexer": "ipython3",
   "version": "3.6.4"
  }
 },
 "nbformat": 4,
 "nbformat_minor": 2
}
