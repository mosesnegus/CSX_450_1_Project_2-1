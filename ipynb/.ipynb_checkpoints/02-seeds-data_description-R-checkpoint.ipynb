{
 "cells": [
  {
   "cell_type": "code",
   "execution_count": 3,
   "metadata": {},
   "outputs": [
    {
     "name": "stderr",
     "output_type": "stream",
     "text": [
      "Updating HTML index of packages in '.Library'\n",
      "Making 'packages.html' ... done\n",
      "also installing the dependency ‘modeltools’\n",
      "\n",
      "Updating HTML index of packages in '.Library'\n",
      "Making 'packages.html' ... done\n",
      "also installing the dependencies ‘gtools’, ‘gdata’\n",
      "\n",
      "Updating HTML index of packages in '.Library'\n",
      "Making 'packages.html' ... done\n",
      "Updating HTML index of packages in '.Library'\n",
      "Making 'packages.html' ... done\n",
      "Loading required package: grid\n",
      "Loading required package: lattice\n",
      "Loading required package: modeltools\n",
      "Loading required package: stats4\n"
     ]
    }
   ],
   "source": [
    "install.packages('NbClust')\n",
    "install.packages('flexclust')\n",
    "install.packages('gmodels')\n",
    "install.packages('ggplot2')\n",
    "library(NbClust)\n",
    "library(flexclust)\n",
    "library(gmodels)\n",
    "library(ggplot2)"
   ]
  },
  {
   "cell_type": "code",
   "execution_count": 21,
   "metadata": {},
   "outputs": [],
   "source": [
    "#read the seed data set\n",
    "data <- read.csv('../data/seeds_dataset.txt', header=FALSE)"
   ]
  },
  {
   "cell_type": "code",
   "execution_count": 22,
   "metadata": {},
   "outputs": [],
   "source": [
    "#create the function\n",
    "wssplot <- function(data, nc=7, seed=1234){\n",
    "    wss <- (nrow(data)-1)*sum(apply(data,2,var))\n",
    "    for (i in 2:nc){\n",
    "        set.seed(seed)\n",
    "        wss[i] <- sum(kmeans(data, centers=i)$withinss)}\n",
    "        plot(1:nc, wss, type=\"b\", xlab=\"Number of Clusters\",\n",
    "             ylab=\"Within groups sum of squares\")\n",
    "}"
   ]
  },
  {
   "cell_type": "code",
   "execution_count": 23,
   "metadata": {},
   "outputs": [
    {
     "ename": "ERROR",
     "evalue": "Error in colMeans(x, na.rm = TRUE): 'x' must be numeric\n",
     "output_type": "error",
     "traceback": [
      "Error in colMeans(x, na.rm = TRUE): 'x' must be numeric\nTraceback:\n",
      "1. scale(data[-8])",
      "2. scale.default(data[-8])",
      "3. colMeans(x, na.rm = TRUE)"
     ]
    }
   ],
   "source": [
    "#remove the result column and scale the data\n",
    "df <- scale(data[-8])\n",
    "df\n",
    "#summary(df)"
   ]
  },
  {
   "cell_type": "code",
   "execution_count": null,
   "metadata": {},
   "outputs": [],
   "source": []
  }
 ],
 "metadata": {
  "kernelspec": {
   "display_name": "R",
   "language": "R",
   "name": "ir"
  },
  "language_info": {
   "codemirror_mode": "r",
   "file_extension": ".r",
   "mimetype": "text/x-r-source",
   "name": "R",
   "pygments_lexer": "r",
   "version": "3.3.2"
  }
 },
 "nbformat": 4,
 "nbformat_minor": 2
}
