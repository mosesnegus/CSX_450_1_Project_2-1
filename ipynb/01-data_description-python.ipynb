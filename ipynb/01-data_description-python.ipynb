{
 "cells": [
  {
   "cell_type": "code",
   "execution_count": null,
   "metadata": {},
   "outputs": [],
   "source": [
    "import matplotlib.pyplot as plt\n",
    "import numpy as np\n",
    "import pandas as pd\n",
    "import seaborn as sns\n",
    "import re\n",
    "%matplotlib inline"
   ]
  },
  {
   "cell_type": "code",
   "execution_count": null,
   "metadata": {},
   "outputs": [],
   "source": [
    "# load abbreviations file\n",
    "# note that the file is encoded in latin-1, instead of Python's default utf-8 or the common ascii encoding\n",
    "raw_abbrs = [line.decode('latin-1') for line in open('../data/stateabbr.data', 'rb')]\n",
    "\n",
    "# parse the abbreviations, not every line is a location and not every abbreviation is 2 letters\n",
    "# however, every abbreviation is lower case\n",
    "samples_dict = {}\n",
    "for line in raw_abbrs:\n",
    "    m = re.search('^([a-z]{2,})\\s', line)\n",
    "    if m:\n",
    "        abbr = m.group(0).replace(' ', '')\n",
    "        samples_dict[abbr] = []\n",
    "print(\"Num Locations: {}\".format(len(samples_dict.keys())))\n",
    "print(samples_dict)"
   ]
  },
  {
   "cell_type": "code",
   "execution_count": null,
   "metadata": {},
   "outputs": [],
   "source": [
    "# there should be 69 locations, turns out \"Prince Edward Island\" does not have an abbreviation\n",
    "# also, samples have an abbreviation the location \"pe\" and \"gl\" which is not in stateabbr.txt\n",
    "# let's assume pe == \"Prince Edward Island\" and gl == \"GreenLand\" and add it to the dictionary\n",
    "samples_dict['pe'] = []\n",
    "samples_dict['gl'] = []\n",
    "# get raw samples with the locations as a list\n",
    "raw_samples = [sample.decode('latin-1').strip().split(',') for sample in open('../data/plants.data', 'rb')]\n",
    "all_locations = set(samples_dict.keys())\n",
    "for sample in raw_samples:\n",
    "    abbrs = set(sample[1:])\n",
    "    zeros = [samples_dict[abbr].append(0) for abbr in all_locations.difference(abbrs)]\n",
    "    ones = [samples_dict[abbr].append(1) for abbr in abbrs]\n",
    "\n",
    "samples_df = pd.DataFrame(data=samples_dict)"
   ]
  },
  {
   "cell_type": "code",
   "execution_count": null,
   "metadata": {},
   "outputs": [],
   "source": []
  }
 ],
 "metadata": {
  "kernelspec": {
   "display_name": "Python 3",
   "language": "python",
   "name": "python3"
  },
  "language_info": {
   "codemirror_mode": {
    "name": "ipython",
    "version": 3
   },
   "file_extension": ".py",
   "mimetype": "text/x-python",
   "name": "python",
   "nbconvert_exporter": "python",
   "pygments_lexer": "ipython3",
   "version": "3.6.4"
  }
 },
 "nbformat": 4,
 "nbformat_minor": 2
}
